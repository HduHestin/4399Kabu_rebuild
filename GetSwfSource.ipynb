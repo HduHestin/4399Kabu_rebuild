{
 "cells": [
  {
   "cell_type": "code",
   "execution_count": 1,
   "metadata": {},
   "outputs": [],
   "source": [
    "import requests\n",
    "import os\n",
    "\n",
    "def download_swf(url):\n",
    "    # 移除URL中的域名部分，只保留路径和文件名\n",
    "    path_and_filename = url.replace('http://enter.wanwan4399.com', '')\n",
    "    \n",
    "    # 移除URL中的查询参数\n",
    "    path_and_filename = path_and_filename.split('?')[0]\n",
    "    \n",
    "    # 构建保存文件的目录路径\n",
    "    directory = os.path.join(os.getcwd(), *path_and_filename.split('/')[:-1])\n",
    "    \n",
    "    # 确保目录路径存在\n",
    "    if not os.path.exists(directory):\n",
    "        os.makedirs(directory)\n",
    "    \n",
    "    # 从URL中提取文件名\n",
    "    filename = path_and_filename.split('/')[-1]\n",
    "\n",
    "    # 如果请求的文件名以.swf结尾，则直接使用该文件名\n",
    "    if filename.endswith('.swf'):\n",
    "        save_path = os.path.join(directory, filename)\n",
    "\n",
    "    # 如果请求的文件名不以.swf结尾，则添加.swf后缀\n",
    "    else:\n",
    "        filename = filename+'.swf'\n",
    "        save_path = os.path.join(directory, filename)\n",
    "\n",
    "    \n",
    "    # 发送GET请求\n",
    "    response = requests.get(url)\n",
    "    \n",
    "    # 检查请求是否成功\n",
    "    if response.status_code == 200:\n",
    "        # 打开一个文件用于写入\n",
    "        with open(save_path, 'wb') as file:\n",
    "            # 写入内容\n",
    "            file.write(response.content)\n",
    "        print(f'SWF文件已成功保存至:{save_path}')\n",
    "    else:\n",
    "        print('请求失败，状态码：', response.status_code)\n",
    "\n"
   ]
  },
  {
   "cell_type": "code",
   "execution_count": 3,
   "metadata": {},
   "outputs": [
    {
     "name": "stdout",
     "output_type": "stream",
     "text": [
      "SWF文件已成功保存至:e:\\Game_tools\\bin-debug\\assets\\map\\bigmaptip.swf\n"
     ]
    }
   ],
   "source": [
    "# 使用函数下载SWF文件\n",
    "download_url = 'http://enter.wanwan4399.com/bin-debug/assets/map/bigmaptip.swf?v=1'\n",
    "download_swf(download_url)"
   ]
  },
  {
   "cell_type": "code",
   "execution_count": null,
   "metadata": {},
   "outputs": [],
   "source": [
    "def download_from_file(file_path):\n",
    "    # 打开并读取txt文件中的所有行\n",
    "    with open(file_path, 'r', encoding='utf-8') as file:\n",
    "        urls = file.readlines()\n",
    "    \n",
    "    # 遍历URL列表\n",
    "    for url in urls:\n",
    "        # 去除每行末尾的换行符\n",
    "        url = url.strip()\n",
    "        if url:  # 确保不为空行\n",
    "            print(f\"正在下载: {url}\")\n",
    "            # 调用download_swf函数下载SWF文件\n",
    "            download_swf(url)\n",
    "\n",
    "# 调用函数，传入包含URL的txt文件路径\n",
    "txt_file_path = 'source.txt'  # 替换为您的txt文件路径\n",
    "download_from_file(txt_file_path)"
   ]
  }
 ],
 "metadata": {
  "kernelspec": {
   "display_name": "pygame310",
   "language": "python",
   "name": "python3"
  },
  "language_info": {
   "codemirror_mode": {
    "name": "ipython",
    "version": 3
   },
   "file_extension": ".py",
   "mimetype": "text/x-python",
   "name": "python",
   "nbconvert_exporter": "python",
   "pygments_lexer": "ipython3",
   "version": "3.10.14"
  }
 },
 "nbformat": 4,
 "nbformat_minor": 2
}
