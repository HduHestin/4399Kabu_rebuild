{
 "cells": [
  {
   "cell_type": "code",
   "execution_count": 10,
   "metadata": {},
   "outputs": [
    {
     "name": "stdout",
     "output_type": "stream",
     "text": [
      "['1.bmp', '2.bmp', '3.bmp', '4.bmp', '5.bmp', '6.bmp', '7.bmp', '8.bmp', '9.bmp', '10.bmp', '11.bmp', '12.bmp', '13.bmp', '14.bmp', '15.bmp', '16.bmp', '17.bmp', '18.bmp', '19.bmp', '20.bmp', '21.bmp', '22.bmp', '23.bmp', '24.bmp', '25.bmp', '26.bmp', '27.bmp', '28.bmp', '29.bmp', '30.bmp', '31.bmp', '32.bmp', '33.bmp', '34.bmp', '35.bmp', '36.bmp', '37.bmp', '38.bmp', '39.bmp', '40.bmp', '41.bmp', '42.bmp', '43.bmp', '44.bmp', '45.bmp', '46.bmp', '47.bmp', '48.bmp', '49.bmp', '50.bmp', '51.bmp', '52.bmp', '53.bmp', '54.bmp', '55.bmp', '56.bmp', '57.bmp', '58.bmp', '59.bmp', '60.bmp', '61.bmp', '62.bmp', '63.bmp', '64.bmp', '65.bmp', '66.bmp', '67.bmp', '68.bmp', '69.bmp', '70.bmp', '71.bmp', '72.bmp', '73.bmp', '74.bmp', '75.bmp', '76.bmp', '77.bmp', '78.bmp', '79.bmp', '80.bmp', '81.bmp', '82.bmp', '83.bmp', '84.bmp', '85.bmp', '86.bmp', '87.bmp', '88.bmp', '89.bmp', '90.bmp', '91.bmp', '92.bmp', '93.bmp', '94.bmp', '95.bmp', '96.bmp', '97.bmp', '98.bmp', '99.bmp', '100.bmp', '101.bmp', '102.bmp', '103.bmp', '104.bmp', '105.bmp', '106.bmp', '107.bmp', '108.bmp', '109.bmp', '110.bmp', '111.bmp', '112.bmp', '113.bmp', '114.bmp', '115.bmp', '116.bmp', '117.bmp', '118.bmp', '119.bmp', '120.bmp', '121.bmp', '122.bmp', '123.bmp', '124.bmp', '125.bmp', '126.bmp', '127.bmp', '128.bmp', '129.bmp', '130.bmp', '131.bmp', '132.bmp', '133.bmp', '134.bmp', '135.bmp', '136.bmp', '137.bmp', '138.bmp', '139.bmp', '140.bmp']\n"
     ]
    }
   ],
   "source": [
    "import pygame\n",
    "import os\n",
    "\n",
    "# 指定包含BMP文件的文件夹路径\n",
    "bmp_folder_path = 'bmps2'  # 替换为你的BMP文件夹路径\n",
    "\n",
    "# 获取文件夹中所有的BMP文件并排序\n",
    "# 设置要生成的文件数量\n",
    "num = 36 # 例如，生成10个文件名\n",
    "\n",
    "# 生成列表\n",
    "bmp_files = [f\"{i}.bmp\" for i in range(1, num + 1)]\n",
    "\n",
    "# 打印生成的列表\n",
    "print(bmp_files)\n",
    "# 初始化Pygame\n",
    "pygame.init()\n",
    "\n",
    "# 设置窗口大小\n",
    "screen_width, screen_height = 800, 600\n",
    "screen = pygame.display.set_mode((screen_width, screen_height))\n",
    "pygame.display.set_caption(\"BMP Animation\")\n",
    "\n",
    "# 加载BMP文件为帧动画\n",
    "frames = [pygame.image.load(os.path.join(bmp_folder_path, file)).convert() for file in bmp_files]\n",
    "\n",
    "# 总播放时间\n",
    "total_time = 1.50  # 秒\n",
    "\n",
    "# 计算帧率（如果已知）\n",
    "# 如果Flash中帧率为12FPS，则总帧数为12 * 1.50\n",
    "frame_rate = 24\n",
    "total_frames = frame_rate * total_time\n",
    "\n",
    "# 计算每帧的持续时间（秒）\n",
    "frame_duration = total_time / total_frames\n",
    "\n",
    "# 主循环\n",
    "for current_frame in range(int(total_frames)):\n",
    "    for event in pygame.event.get():\n",
    "        if event.type == pygame.QUIT:\n",
    "            pygame.quit()  # 退出Pygame\n",
    "\n",
    "    # 显示当前帧\n",
    "    screen.blit(frames[current_frame % len(frames)], (0, 0))\n",
    "    pygame.display.flip()\n",
    "\n",
    "    # 计算下一帧之前需要等待的时间（毫秒）\n",
    "    wait_time = int((1 / frame_rate) * 1000)\n",
    "    pygame.time.wait(wait_time)\n",
    "\n",
    "# 播放完成后退出Pygame\n",
    "pygame.quit()"
   ]
  }
 ],
 "metadata": {
  "kernelspec": {
   "display_name": "pygame310",
   "language": "python",
   "name": "python3"
  },
  "language_info": {
   "codemirror_mode": {
    "name": "ipython",
    "version": 3
   },
   "file_extension": ".py",
   "mimetype": "text/x-python",
   "name": "python",
   "nbconvert_exporter": "python",
   "pygments_lexer": "ipython3",
   "version": "3.10.14"
  }
 },
 "nbformat": 4,
 "nbformat_minor": 2
}
